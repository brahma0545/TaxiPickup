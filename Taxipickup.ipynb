{
 "cells": [
  {
   "cell_type": "markdown",
   "metadata": {},
   "source": [
    "# Data Information"
   ]
  },
  {
   "cell_type": "markdown",
   "metadata": {},
   "source": [
    "<ul>The yellow and green taxi trip records include fields capturing \n",
    "    <li>pick-up and drop-off dates/times, </li>\n",
    "    <li>pick-up and drop-off locations, </li>\n",
    "    <li>trip distances, </li>\n",
    "    <li>itemized fares, </li>\n",
    "    <li>rate types, </li>\n",
    "    <li>payment types,</li>\n",
    "    <li>driver-reported passenger counts. </li>\n",
    "</ul>\n",
    "<p>\n",
    "The data used in the attached datasets were collected and provided to the NYC Taxi and Limousine Commission (TLC) \n",
    "</p>"
   ]
  },
  {
   "cell_type": "markdown",
   "metadata": {},
   "source": [
    "<h5> Yellow Taxi: Yellow Medallion Taxicabs</h5>\n",
    "<p> These are the famous NYC yellow taxis that provide transportation exclusively through street-hails. The number of taxicabs is limited by a finite number of medallions issued by the TLC. You access this mode of transportation by standing in the street and hailing an available taxi with your hand. The pickups are not pre-arranged.</p>\n",
    "\n",
    "<h5> For Hire Vehicles (FHVs) </h5>\n",
    "<p> FHV transportation is accessed by a pre-arrangement with a dispatcher or limo company. These FHVs are not permitted to pick up passengers via street hails, as those rides are not considered pre-arranged. </p>\n",
    "\n",
    "<h5> Green Taxi: Street Hail Livery (SHL) </h5>\n",
    "<p>  The SHL program will allow livery vehicle owners to license and outfit their vehicles with green borough taxi branding, meters, credit card machines, and ultimately the right to accept street hails in addition to pre-arranged rides. </p>\n",
    "<p> Credits: Quora</p>"
   ]
  },
  {
   "cell_type": "code",
   "execution_count": 3,
   "metadata": {},
   "outputs": [],
   "source": [
    "import pandas as pd\n",
    "dataframe = pd.read_csv('train.csv')"
   ]
  },
  {
   "cell_type": "code",
   "execution_count": 4,
   "metadata": {},
   "outputs": [
    {
     "name": "stdout",
     "output_type": "stream",
     "text": [
      "          id  vendor_id      pickup_datetime     dropoff_datetime  \\\n",
      "0  id2875421          2  2016-03-14 17:24:55  2016-03-14 17:32:30   \n",
      "1  id2377394          1  2016-06-12 00:43:35  2016-06-12 00:54:38   \n",
      "2  id3858529          2  2016-01-19 11:35:24  2016-01-19 12:10:48   \n",
      "3  id3504673          2  2016-04-06 19:32:31  2016-04-06 19:39:40   \n",
      "4  id2181028          2  2016-03-26 13:30:55  2016-03-26 13:38:10   \n",
      "\n",
      "   passenger_count  pickup_longitude  pickup_latitude  dropoff_longitude  \\\n",
      "0                1        -73.982155        40.767937         -73.964630   \n",
      "1                1        -73.980415        40.738564         -73.999481   \n",
      "2                1        -73.979027        40.763939         -74.005333   \n",
      "3                1        -74.010040        40.719971         -74.012268   \n",
      "4                1        -73.973053        40.793209         -73.972923   \n",
      "\n",
      "   dropoff_latitude store_and_fwd_flag  trip_duration  \n",
      "0         40.765602                  N            455  \n",
      "1         40.731152                  N            663  \n",
      "2         40.710087                  N           2124  \n",
      "3         40.706718                  N            429  \n",
      "4         40.782520                  N            435  \n"
     ]
    }
   ],
   "source": [
    "print(dataframe.head())"
   ]
  },
  {
   "cell_type": "code",
   "execution_count": 7,
   "metadata": {},
   "outputs": [],
   "source": [
    "data_2016_01 = pd.read_csv('yellow_tripdata_2016-01.csv')"
   ]
  },
  {
   "cell_type": "code",
   "execution_count": 8,
   "metadata": {},
   "outputs": [
    {
     "name": "stdout",
     "output_type": "stream",
     "text": [
      "   VendorID tpep_pickup_datetime tpep_dropoff_datetime  passenger_count  \\\n",
      "0         2  2016-01-01 00:00:00   2016-01-01 00:00:00                2   \n",
      "1         2  2016-01-01 00:00:00   2016-01-01 00:00:00                5   \n",
      "2         2  2016-01-01 00:00:00   2016-01-01 00:00:00                1   \n",
      "3         2  2016-01-01 00:00:00   2016-01-01 00:00:00                1   \n",
      "4         2  2016-01-01 00:00:00   2016-01-01 00:00:00                3   \n",
      "\n",
      "   trip_distance  pickup_longitude  pickup_latitude  RatecodeID  \\\n",
      "0           1.10        -73.990372        40.734695           1   \n",
      "1           4.90        -73.980782        40.729912           1   \n",
      "2          10.54        -73.984550        40.679565           1   \n",
      "3           4.75        -73.993469        40.718990           1   \n",
      "4           1.76        -73.960625        40.781330           1   \n",
      "\n",
      "  store_and_fwd_flag  dropoff_longitude  dropoff_latitude  payment_type  \\\n",
      "0                  N         -73.981842         40.732407             2   \n",
      "1                  N         -73.944473         40.716679             1   \n",
      "2                  N         -73.950272         40.788925             1   \n",
      "3                  N         -73.962242         40.657333             2   \n",
      "4                  N         -73.977264         40.758514             2   \n",
      "\n",
      "   fare_amount  extra  mta_tax  tip_amount  tolls_amount  \\\n",
      "0          7.5    0.5      0.5         0.0           0.0   \n",
      "1         18.0    0.5      0.5         0.0           0.0   \n",
      "2         33.0    0.5      0.5         0.0           0.0   \n",
      "3         16.5    0.0      0.5         0.0           0.0   \n",
      "4          8.0    0.0      0.5         0.0           0.0   \n",
      "\n",
      "   improvement_surcharge  total_amount  \n",
      "0                    0.3           8.8  \n",
      "1                    0.3          19.3  \n",
      "2                    0.3          34.3  \n",
      "3                    0.3          17.3  \n",
      "4                    0.3           8.8  \n"
     ]
    }
   ],
   "source": [
    "print(data_2016_01.head())"
   ]
  }
 ],
 "metadata": {
  "kernelspec": {
   "display_name": "Python 3",
   "language": "python",
   "name": "python3"
  },
  "language_info": {
   "codemirror_mode": {
    "name": "ipython",
    "version": 3
   },
   "file_extension": ".py",
   "mimetype": "text/x-python",
   "name": "python",
   "nbconvert_exporter": "python",
   "pygments_lexer": "ipython3",
   "version": "3.6.1"
  }
 },
 "nbformat": 4,
 "nbformat_minor": 2
}
